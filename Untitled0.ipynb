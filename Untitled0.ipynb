{
  "nbformat": 4,
  "nbformat_minor": 0,
  "metadata": {
    "colab": {
      "provenance": [],
      "authorship_tag": "ABX9TyOJx1Q+WBQw0LMp6MaSJyii",
      "include_colab_link": true
    },
    "kernelspec": {
      "name": "python3",
      "display_name": "Python 3"
    },
    "language_info": {
      "name": "python"
    }
  },
  "cells": [
    {
      "cell_type": "markdown",
      "metadata": {
        "id": "view-in-github",
        "colab_type": "text"
      },
      "source": [
        "<a href=\"https://colab.research.google.com/github/Balamurugan2611/Data-science/blob/main/Untitled0.ipynb\" target=\"_parent\"><img src=\"https://colab.research.google.com/assets/colab-badge.svg\" alt=\"Open In Colab\"/></a>"
      ]
    },
    {
      "cell_type": "code",
      "execution_count": 1,
      "metadata": {
        "colab": {
          "base_uri": "https://localhost:8080/"
        },
        "id": "DZVkyXplvsAH",
        "outputId": "046b5f2c-f45a-4c41-8bbe-4704ab64e0e6"
      },
      "outputs": [
        {
          "output_type": "stream",
          "name": "stdout",
          "text": [
            "Hello, Excited to start Data Science.\n"
          ]
        }
      ],
      "source": [
        "print(\"Hello, Excited to start Data Science.\")"
      ]
    },
    {
      "cell_type": "code",
      "source": [
        "\n",
        "customer_name = \"John Doe\"\n",
        "customer_age = 28\n",
        "customer_balance = 120.75\n",
        "\n",
        "print(\"Customer:\", customer_name)\n",
        "print(\"Age:\", customer_age)\n",
        "print(\"Balance:\", customer_balance)"
      ],
      "metadata": {
        "colab": {
          "base_uri": "https://localhost:8080/"
        },
        "id": "Xy0s5oojwISE",
        "outputId": "3e363423-a20c-4c8b-b4e4-363114d9d555"
      },
      "execution_count": 2,
      "outputs": [
        {
          "output_type": "stream",
          "name": "stdout",
          "text": [
            "Customer: John Doe\n",
            "Age: 28\n",
            "Balance: 120.75\n"
          ]
        }
      ]
    },
    {
      "cell_type": "code",
      "source": [
        "\n",
        "product_price = 200\n",
        "discount = product_price * 0.10  # 10% discount\n",
        "final_price = product_price - discount\n",
        "print(\"Final Price after Discount:\", final_price)"
      ],
      "metadata": {
        "colab": {
          "base_uri": "https://localhost:8080/"
        },
        "id": "LREshxBYwhny",
        "outputId": "101123c8-812a-4c76-95bd-cadeac6e6806"
      },
      "execution_count": 3,
      "outputs": [
        {
          "output_type": "stream",
          "name": "stdout",
          "text": [
            "Final Price after Discount: 180.0\n"
          ]
        }
      ]
    },
    {
      "cell_type": "code",
      "source": [
        "\n",
        "import numpy as np\n",
        "\n",
        "sales = np.array([150, 200, 250, 300, 400, 350, 500])  # Sales for each day\n",
        "print(\"Sales Data:\", sales)"
      ],
      "metadata": {
        "colab": {
          "base_uri": "https://localhost:8080/"
        },
        "id": "ffQoWdmbw4NM",
        "outputId": "5c584fc5-9d00-4326-df2a-bcb11ba3df52"
      },
      "execution_count": 4,
      "outputs": [
        {
          "output_type": "stream",
          "name": "stdout",
          "text": [
            "Sales Data: [150 200 250 300 400 350 500]\n"
          ]
        }
      ]
    },
    {
      "cell_type": "code",
      "source": [
        "\n",
        "print(\"Average Sales:\", np.mean(sales))\n",
        "print(\"Highest Sale:\", np.max(sales))\n",
        "print(\"Lowest Sale:\", np.min(sales))"
      ],
      "metadata": {
        "colab": {
          "base_uri": "https://localhost:8080/"
        },
        "id": "KDjwU0KFxAxv",
        "outputId": "44bbcb6f-6fea-4f92-ee52-67a66b595202"
      },
      "execution_count": 5,
      "outputs": [
        {
          "output_type": "stream",
          "name": "stdout",
          "text": [
            "Average Sales: 307.14285714285717\n",
            "Highest Sale: 500\n",
            "Lowest Sale: 150\n"
          ]
        }
      ]
    },
    {
      "cell_type": "code",
      "source": [
        "\n",
        "import pandas as pd\n",
        "\n",
        "data = {\n",
        "    \"Customer\": [\"Alice\", \"Bob\", \"Charlie\"],\n",
        "    \"Age\": [25, 30, 35],\n",
        "    \"Amount Spent\": [120, 200, 150]\n",
        "}\n",
        "\n",
        "df = pd.DataFrame(data)\n",
        "print(df)"
      ],
      "metadata": {
        "colab": {
          "base_uri": "https://localhost:8080/"
        },
        "id": "Clh8qR8KxKbp",
        "outputId": "e7d4b8dd-0055-4fe5-8369-8bd1794ce7f4"
      },
      "execution_count": 6,
      "outputs": [
        {
          "output_type": "stream",
          "name": "stdout",
          "text": [
            "  Customer  Age  Amount Spent\n",
            "0    Alice   25           120\n",
            "1      Bob   30           200\n",
            "2  Charlie   35           150\n"
          ]
        }
      ]
    },
    {
      "cell_type": "code",
      "source": [
        "\n",
        "high_spenders = df[df[\"Amount Spent\"] > 150]\n",
        "print(high_spenders)"
      ],
      "metadata": {
        "colab": {
          "base_uri": "https://localhost:8080/"
        },
        "id": "H_1cNCwXzR_Y",
        "outputId": "ae94de61-5e4f-4658-b4b5-94ee1373f243"
      },
      "execution_count": 8,
      "outputs": [
        {
          "output_type": "stream",
          "name": "stdout",
          "text": [
            "  Customer  Age  Amount Spent\n",
            "1      Bob   30           200\n"
          ]
        }
      ]
    }
  ]
}